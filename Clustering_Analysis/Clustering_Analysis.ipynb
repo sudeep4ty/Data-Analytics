{
 "cells": [
  {
   "cell_type": "code",
   "execution_count": null,
   "id": "2f6bfbdd",
   "metadata": {},
   "outputs": [],
   "source": [
    "from google.colab import files\n",
    "import pandas as pd\n",
    "\n",
    "# Upload the training and testing datasets\n",
    "uploaded = files.upload()\n",
    "\n",
    "# Load the training and testing datasets\n",
    "X_train_scaled = pd.read_csv('X_train_scaled.csv')\n",
    "X_test_scaled = pd.read_csv('X_test_scaled.csv')\n",
    "y_train = pd.read_csv('y_train.csv')\n",
    "y_test = pd.read_csv('y_test.csv')\n",
    "\n",
    "# Display the first few rows of the training data\n",
    "X_train_scaled.head()\n"
   ]
  },
  {
   "cell_type": "code",
   "execution_count": null,
   "id": "c5dc23a8",
   "metadata": {},
   "outputs": [],
   "source": [
    "from sklearn.cluster import KMeans\n",
    "import matplotlib.pyplot as plt\n",
    "\n",
    "# Calculate WCSS for different number of clusters\n",
    "wcss = []\n",
    "for i in range(1, 11):\n",
    "    kmeans = KMeans(n_clusters=i, init='k-means++', max_iter=300, n_init=10, random_state=42)\n",
    "    kmeans.fit(X_train_scaled)\n",
    "    wcss.append(kmeans.inertia_)\n",
    "\n",
    "# Plot the Elbow graph\n",
    "plt.figure(figsize=(10, 6))\n",
    "plt.plot(range(1, 11), wcss, marker='o', linestyle='--')\n",
    "plt.title('Elbow Method for Optimal Number of Clusters')\n",
    "plt.xlabel('Number of Clusters')\n",
    "plt.ylabel('WCSS')\n",
    "plt.show()\n"
   ]
  },
  {
   "cell_type": "code",
   "execution_count": null,
   "id": "d0520ea2",
   "metadata": {},
   "outputs": [],
   "source": [
    "# Assuming the optimal number of clusters is 3 based on the Elbow method (adjust if different)\n",
    "optimal_clusters = 3\n",
    "\n",
    "# Train the K-Means model\n",
    "kmeans = KMeans(n_clusters=optimal_clusters, init='k-means++', max_iter=300, n_init=10, random_state=42)\n",
    "kmeans.fit(X_train_scaled)\n",
    "\n",
    "# Predict the clusters for the training data\n",
    "clusters = kmeans.predict(X_train_scaled)\n",
    "\n",
    "# Add the cluster labels to the training data\n",
    "X_train_scaled['Cluster'] = clusters\n",
    "\n",
    "# Display the first few rows of the data with cluster labels\n",
    "X_train_scaled.head()\n"
   ]
  },
  {
   "cell_type": "code",
   "execution_count": null,
   "id": "cf600c3b",
   "metadata": {},
   "outputs": [],
   "source": [
    "from sklearn.decomposition import PCA\n",
    "\n",
    "# Reduce the dimensionality of the data to 2 components using PCA\n",
    "pca = PCA(n_components=2)\n",
    "pca_components = pca.fit_transform(X_train_scaled.drop('Cluster', axis=1))\n",
    "\n",
    "# Plot the clusters\n",
    "plt.figure(figsize=(10, 6))\n",
    "plt.scatter(pca_components[:, 0], pca_components[:, 1], c=X_train_scaled['Cluster'], cmap='viridis', marker='o')\n",
    "plt.title('Clusters Visualization')\n",
    "plt.xlabel('PCA Component 1')\n",
    "plt.ylabel('PCA Component 2')\n",
    "plt.colorbar(label='Cluster')\n",
    "plt.show()\n"
   ]
  },
  {
   "cell_type": "code",
   "execution_count": null,
   "id": "d6c913bd",
   "metadata": {},
   "outputs": [],
   "source": [
    "import joblib\n",
    "\n",
    "# Save the trained K-Means model\n",
    "joblib.dump(kmeans, 'kmeans_model.pkl')\n",
    "\n",
    "# Save the cluster labels with the training data\n",
    "X_train_scaled.to_csv('train_with_clusters.csv', index=False)\n",
    "\n",
    "# Save the cluster centers for interpretation\n",
    "cluster_centers = pd.DataFrame(kmeans.cluster_centers_, columns=X_train_scaled.columns[:-1])\n",
    "cluster_centers.to_csv('cluster_centers.csv', index=False)\n",
    "\n",
    "# Download the model and the cluster data\n",
    "files.download('kmeans_model.pkl')\n",
    "files.download('train_with_clusters.csv')\n",
    "files.download('cluster_centers.csv')\n"
   ]
  }
 ],
 "metadata": {},
 "nbformat": 4,
 "nbformat_minor": 5
}
